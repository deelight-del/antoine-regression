{
 "cells": [
  {
   "cell_type": "markdown",
   "id": "96539fbc-436f-4847-8d5c-56d4e290422d",
   "metadata": {},
   "source": [
    "# Antonine Regression.\n",
    "\n",
    "log(P) = A + (A.C-B)/T - C.log(P)/T\n",
    " \n",
    " y = a0 + a1.x1 + a2.x2"
   ]
  },
  {
   "cell_type": "code",
   "execution_count": 57,
   "id": "794d9931-bd13-4037-b0c0-27106e0ecbcb",
   "metadata": {},
   "outputs": [],
   "source": [
    "import numpy as np\n",
    "\n",
    "from sklearn.linear_model import LinearRegression"
   ]
  },
  {
   "cell_type": "code",
   "execution_count": 67,
   "id": "0369dd25-545e-40ce-85d6-72d5a836b3a1",
   "metadata": {},
   "outputs": [],
   "source": [
    "# Function to accept the temperature and pressure as different list.\n",
    "\n",
    "def prepare_data(vapour_pressure, temperature):\n",
    "\n",
    "    \"\"\" This function accepts experimental vapour_pressure and temperature\n",
    "    as list and creates a dataframe.\n",
    "\n",
    "    Args\n",
    "    ========\n",
    "\n",
    "    vapour_pressure: list of vapour pressure.\n",
    "    temperature: list of temperature.\n",
    "\n",
    "    Returns:\n",
    "        A pandas dataframe.\n",
    "    \"\"\"\n",
    "    assert len(vapour_pressure) > 0, \"No value in list of vapour_pressure\"\n",
    "    assert len(temperature) > 0, \"No value in list of temperature\"\n",
    "    assert len(vapour_pressure) == len(temperature), f\"Length of vapour_pressure: {len(vapour_pressure)}\\\n",
    "    does not match temperature: {len(temperature)}\"\n",
    "    vapour_pressure = np.array(vapour_pressure)\n",
    "    temperature = np.array(temperature)\n",
    "    x1 = 1 / temperature\n",
    "    x2 = (np.log(vapour_pressure)) / temperature\n",
    "    y = np.log(vapour_pressure)\n",
    "    X = np.vstack([x1, x2.T])\n",
    "    return X.T, y"
   ]
  },
  {
   "cell_type": "code",
   "execution_count": 70,
   "id": "073af2aa-026c-42bb-a3ae-816d624215cf",
   "metadata": {},
   "outputs": [],
   "source": [
    "def fit_model_and_calculate(X, y):\n",
    "    \"\"\"\n",
    "    Uses X, y to train the linear regression model.\n",
    "    And uses the coefficient to compute the Antoine constants.\n",
    "    \"\"\"\n",
    "    model =  LinearRegression()\n",
    "    model.fit(X, y)\n",
    "    A = model.intercept_\n",
    "    C = model.coef_[1]\n",
    "    B = A * C - model.coef_[0]\n",
    "    return A, B, C"
   ]
  },
  {
   "cell_type": "code",
   "execution_count": 71,
   "id": "39bb1344-065d-4068-8f7c-8f68a3414fa5",
   "metadata": {},
   "outputs": [],
   "source": [
    "def calculate_antoine_constants(vapour_pressure, temperature):\n",
    "    \"\"\"Compute the Anotoine constants.\n",
    "    \"\"\"\n",
    "    X, y = prepare_data(vapour_pressure, temperature)\n",
    "    return fit_model_and_calculate(X, y)"
   ]
  },
  {
   "cell_type": "markdown",
   "id": "c57c59ab-3234-483c-8f1c-75ee13658155",
   "metadata": {},
   "source": [
    "Pressure (mm Hg)\tTemperature (°C)\n",
    "16.5\t1\n",
    "42.3\t5\n",
    "55.7\t10\n",
    "69.8\t20\n",
    "85.5\t40\n",
    "95.5\t60\n",
    "108.6\t100\n",
    "128.4\t200\n",
    "150.6\t400\n",
    "174.1\t760"
   ]
  },
  {
   "cell_type": "code",
   "execution_count": 72,
   "id": "a7452516-f639-49f7-8e19-235aad5abce6",
   "metadata": {},
   "outputs": [],
   "source": [
    "press = [16.5, 42.3, 55.7, 69.8, 85.5, 95.5, 108.6, 128.4, 150.6, 174.1]\n",
    "temp = [1, 5, 10, 20, 40, 60, 100, 200, 400, 760]"
   ]
  },
  {
   "cell_type": "code",
   "execution_count": 73,
   "id": "30f038a9-50f0-4896-a801-49c612ff76bc",
   "metadata": {},
   "outputs": [
    {
     "data": {
      "text/plain": [
       "(4.878579698399691, -34.56409564568785, -4.7679768753565765)"
      ]
     },
     "execution_count": 73,
     "metadata": {},
     "output_type": "execute_result"
    }
   ],
   "source": [
    "A, B, C = calculate_antoine_constants(press, temp)\n",
    "A, B, C"
   ]
  },
  {
   "cell_type": "code",
   "execution_count": 69,
   "id": "4ac5559d-58ff-44f6-be35-0d779145bb57",
   "metadata": {},
   "outputs": [
    {
     "data": {
      "text/plain": [
       "(array([6.79549381e-16, 4.00000000e+00]), -2.7755575615628914e-16)"
      ]
     },
     "execution_count": 69,
     "metadata": {},
     "output_type": "execute_result"
    }
   ],
   "source": [
    "model.coef_, model.intercept_"
   ]
  },
  {
   "cell_type": "code",
   "execution_count": null,
   "id": "6b2a275b-35d4-46bf-a23f-d599b4e4b536",
   "metadata": {},
   "outputs": [],
   "source": []
  }
 ],
 "metadata": {
  "kernelspec": {
   "display_name": "Python 3 (ipykernel)",
   "language": "python",
   "name": "python3"
  },
  "language_info": {
   "codemirror_mode": {
    "name": "ipython",
    "version": 3
   },
   "file_extension": ".py",
   "mimetype": "text/x-python",
   "name": "python",
   "nbconvert_exporter": "python",
   "pygments_lexer": "ipython3",
   "version": "3.9.19"
  }
 },
 "nbformat": 4,
 "nbformat_minor": 5
}
